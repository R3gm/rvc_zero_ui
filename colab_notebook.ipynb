{
  "cells": [
    {
      "cell_type": "markdown",
      "metadata": {
        "colab_type": "text",
        "id": "view-in-github"
      },
      "source": [
        "<a href=\"https://colab.research.google.com/github/R3gm/rvc_zero_ui/blob/main/colab_notebook.ipynb\" target=\"_parent\"><img src=\"https://colab.research.google.com/assets/colab-badge.svg\" alt=\"Open In Colab\"/></a>"
      ]
    },
    {
      "cell_type": "code",
      "execution_count": null,
      "metadata": {
        "cellView": "form",
        "id": "t3S2eRsNm3rI"
      },
      "outputs": [],
      "source": [
        "# @title Run the `RVC⚡ZERO` App\n",
        "import codecs\n",
        "\n",
        "repo_base = codecs.decode(\"uggcf://tvguho.pbz/E3tz/eip_mreb_hv\",\"rot_13\")\n",
        "folder_base = \"app\"\n",
        "conf_end = f\"/content/{folder_base}/.venv/complete.txt\"\n",
        "\n",
        "def config_complete() -> bool:\n",
        "    import os\n",
        "    return os.path.exists(conf_end)\n",
        "\n",
        "if not config_complete():\n",
        "    print(\"\\033[34mThe installation will take approximately 7 minutes.\\033[0m\")\n",
        "    %cd /content\n",
        "    !git clone {repo_base} {folder_base}\n",
        "    %cd {folder_base}\n",
        "    !pip install uv==0.8.13 -q\n",
        "    !uv venv --python 3.10 --clear -q\n",
        "    !curl -sS https://bootstrap.pypa.io/get-pip.py -o get-pip.py\n",
        "    !uv run python get-pip.py pip==23.1.2 -q\n",
        "    !uv run python -m pip install -q -r pre-requirements.txt\n",
        "    !uv run python -m pip install -q torch==2.5.1 torchvision==0.20.1 torchaudio==2.5.1 --index-url https://download.pytorch.org/whl/cu124\n",
        "    !uv run python -m pip install -q -r requirements.txt && touch {conf_end}\n",
        "\n",
        "%cd /content/{folder_base}\n",
        "!uv run python app.py --share --theme aliabid94/new-theme"
      ]
    },
    {
      "cell_type": "markdown",
      "metadata": {
        "id": "PDgptpIZnivp"
      },
      "source": [
        "Open the `public URL` when it appears"
      ]
    }
  ],
  "metadata": {
    "accelerator": "GPU",
    "colab": {
      "authorship_tag": "ABX9TyPI3e6ldHr+1/exvfmyZs8I",
      "gpuType": "T4",
      "include_colab_link": true,
      "provenance": []
    },
    "kernelspec": {
      "display_name": "Python 3",
      "name": "python3"
    },
    "language_info": {
      "name": "python"
    }
  },
  "nbformat": 4,
  "nbformat_minor": 0
}
